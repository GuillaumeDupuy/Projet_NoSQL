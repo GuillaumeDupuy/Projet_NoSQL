{
 "cells": [
  {
   "cell_type": "code",
   "execution_count": 7,
   "metadata": {},
   "outputs": [],
   "source": [
    "# import urllib.request as urllib2\n",
    "\n",
    "# urllib2.urlopen('https://ghibliapi.herokuapp.com/films').read()"
   ]
  },
  {
   "cell_type": "code",
   "execution_count": 4,
   "metadata": {},
   "outputs": [
    {
     "name": "stdout",
     "output_type": "stream",
     "text": [
      "https://ghibliapi.herokuapp.com/vehicles?name=Air+Destroyer+Goliath\n",
      "[{'description': 'A military airship utilized by the government to access '\n",
      "                 'Laputa',\n",
      "  'films': ['https://ghibliapi.herokuapp.com/films/2baf70d1-42bb-4437-b551-e5fed5a87abe'],\n",
      "  'id': '4e09b023-f650-4747-9ab9-eacf14540cfb',\n",
      "  'length': '1,000',\n",
      "  'name': 'Air Destroyer Goliath',\n",
      "  'pilot': 'https://ghibliapi.herokuapp.com/people/40c005ce-3725-4f15-8409-3e1b1b14b583',\n",
      "  'url': 'https://ghibliapi.herokuapp.com/vehicles/4e09b023-f650-4747-9ab9-eacf14540cfb',\n",
      "  'vehicle_class': 'Airship'}]\n"
     ]
    }
   ],
   "source": [
    "import requests\n",
    "import json\n",
    "from pprint import pprint\n",
    "\n",
    "url_loc = \"https://ghibliapi.herokuapp.com/locations\"\n",
    "url_films = \"https://ghibliapi.herokuapp.com/films\"\n",
    "url_species = \"https://ghibliapi.herokuapp.com/species\"\n",
    "url_people = \"https://ghibliapi.herokuapp.com/people\"\n",
    "url_vehicles = \"https://ghibliapi.herokuapp.com/vehicles\"\n",
    "\n",
    "# Air Destroyer Goliath\n",
    "name_vehicles = input()\n",
    "payload = {'name': name_vehicles}\n",
    "response = requests.get(url_vehicles, params=payload)\n",
    "print(response.url)\n",
    "contenu = response.json()\n",
    "pprint(contenu)\n"
   ]
  },
  {
   "cell_type": "code",
   "execution_count": 5,
   "metadata": {},
   "outputs": [
    {
     "name": "stdout",
     "output_type": "stream",
     "text": [
      "https://ghibliapi.herokuapp.com/films?title=Castle+in+the+Sky\n",
      "[{'description': 'The orphan Sheeta inherited a mysterious crystal that links '\n",
      "                 'her to the mythical sky-kingdom of Laputa. With the help of '\n",
      "                 'resourceful Pazu and a rollicking band of sky pirates, she '\n",
      "                 'makes her way to the ruins of the once-great civilization. '\n",
      "                 'Sheeta and Pazu must outwit the evil Muska, who plans to use '\n",
      "                 \"Laputa's science to make himself ruler of the world.\",\n",
      "  'director': 'Hayao Miyazaki',\n",
      "  'id': '2baf70d1-42bb-4437-b551-e5fed5a87abe',\n",
      "  'image': 'https://image.tmdb.org/t/p/w600_and_h900_bestv2/npOnzAbLh6VOIu3naU5QaEcTepo.jpg',\n",
      "  'locations': ['https://ghibliapi.herokuapp.com/locations/'],\n",
      "  'movie_banner': 'https://image.tmdb.org/t/p/w533_and_h300_bestv2/3cyjYtLWCBE1uvWINHFsFnE8LUK.jpg',\n",
      "  'original_title': '天空の城ラピュタ',\n",
      "  'original_title_romanised': 'Tenkū no shiro Rapyuta',\n",
      "  'people': ['https://ghibliapi.herokuapp.com/people/598f7048-74ff-41e0-92ef-87dc1ad980a9',\n",
      "             'https://ghibliapi.herokuapp.com/people/fe93adf2-2f3a-4ec4-9f68-5422f1b87c01',\n",
      "             'https://ghibliapi.herokuapp.com/people/3bc0b41e-3569-4d20-ae73-2da329bf0786',\n",
      "             'https://ghibliapi.herokuapp.com/people/40c005ce-3725-4f15-8409-3e1b1b14b583',\n",
      "             'https://ghibliapi.herokuapp.com/people/5c83c12a-62d5-4e92-8672-33ac76ae1fa0',\n",
      "             'https://ghibliapi.herokuapp.com/people/e08880d0-6938-44f3-b179-81947e7873fc',\n",
      "             'https://ghibliapi.herokuapp.com/people/2a1dad70-802a-459d-8cc2-4ebd8821248b'],\n",
      "  'producer': 'Isao Takahata',\n",
      "  'release_date': '1986',\n",
      "  'rt_score': '95',\n",
      "  'running_time': '124',\n",
      "  'species': ['https://ghibliapi.herokuapp.com/species/af3910a6-429f-4c74-9ad5-dfe1c4aa04f2'],\n",
      "  'title': 'Castle in the Sky',\n",
      "  'url': 'https://ghibliapi.herokuapp.com/films/2baf70d1-42bb-4437-b551-e5fed5a87abe',\n",
      "  'vehicles': ['https://ghibliapi.herokuapp.com/vehicles/4e09b023-f650-4747-9ab9-eacf14540cfb']}]\n"
     ]
    }
   ],
   "source": [
    "# Castle in the Sky\n",
    "title = input()\n",
    "payload = {'title': title}\n",
    "response = requests.get(url_films, params=payload)\n",
    "print(response.url)\n",
    "contenu = response.json()\n",
    "pprint(contenu)"
   ]
  },
  {
   "cell_type": "code",
   "execution_count": 10,
   "metadata": {},
   "outputs": [
    {
     "name": "stdout",
     "output_type": "stream",
     "text": [
      "https://ghibliapi.herokuapp.com/people?name=Lusheeta+Toel+Ul+Laputa\n",
      "[{'age': '13',\n",
      "  'eye_color': 'Black',\n",
      "  'films': ['https://ghibliapi.herokuapp.com/films/2baf70d1-42bb-4437-b551-e5fed5a87abe'],\n",
      "  'gender': 'Female',\n",
      "  'hair_color': 'Black',\n",
      "  'id': '598f7048-74ff-41e0-92ef-87dc1ad980a9',\n",
      "  'name': 'Lusheeta Toel Ul Laputa',\n",
      "  'species': 'https://ghibliapi.herokuapp.com/species/af3910a6-429f-4c74-9ad5-dfe1c4aa04f2',\n",
      "  'url': 'https://ghibliapi.herokuapp.com/people/598f7048-74ff-41e0-92ef-87dc1ad980a9'}]\n"
     ]
    }
   ],
   "source": [
    "# Lusheeta Toel Ul Laputa\n",
    "name = input()\n",
    "payload = {'name': name}\n",
    "response = requests.get(url_people, params=payload)\n",
    "print(response.url)\n",
    "contenu = response.json()\n",
    "pprint(contenu)"
   ]
  },
  {
   "cell_type": "code",
   "execution_count": 11,
   "metadata": {},
   "outputs": [
    {
     "name": "stdout",
     "output_type": "stream",
     "text": [
      "https://ghibliapi.herokuapp.com/species?name=Human\n",
      "[{'classification': 'Mammal',\n",
      "  'eye_colors': 'Black, Blue, Brown, Grey, Green, Hazel',\n",
      "  'films': ['https://ghibliapi.herokuapp.com/films/2baf70d1-42bb-4437-b551-e5fed5a87abe',\n",
      "            'https://ghibliapi.herokuapp.com/films/12cfb892-aac0-4c5b-94af-521852e46d6a',\n",
      "            'https://ghibliapi.herokuapp.com/films/58611129-2dbc-4a81-a72f-77ddfc1b1b49',\n",
      "            'https://ghibliapi.herokuapp.com/films/ea660b10-85c4-4ae3-8a5f-41cea3648e3e',\n",
      "            'https://ghibliapi.herokuapp.com/films/4e236f34-b981-41c3-8c65-f8c9000b94e7',\n",
      "            'https://ghibliapi.herokuapp.com/films/ebbb6b7c-945c-41ee-a792-de0e43191bd8',\n",
      "            'https://ghibliapi.herokuapp.com/films/1b67aa9a-2e4a-45af-ac98-64d6ad15b16c',\n",
      "            'https://ghibliapi.herokuapp.com/films/ff24da26-a969-4f0e-ba1e-a122ead6c6e3',\n",
      "            'https://ghibliapi.herokuapp.com/films/0440483e-ca0e-4120-8c50-4c8cd9b965d6',\n",
      "            'https://ghibliapi.herokuapp.com/films/45204234-adfd-45cb-a505-a8e7a676b114',\n",
      "            'https://ghibliapi.herokuapp.com/films/dc2e6bd1-8156-4886-adff-b39e6043af0c',\n",
      "            'https://ghibliapi.herokuapp.com/films/90b72513-afd4-4570-84de-a56c312fdf81',\n",
      "            'https://ghibliapi.herokuapp.com/films/cd3d059c-09f4-4ff3-8d63-bc765a5184fa',\n",
      "            'https://ghibliapi.herokuapp.com/films/112c1e67-726f-40b1-ac17-6974127bb9b9',\n",
      "            'https://ghibliapi.herokuapp.com/films/758bf02e-3122-46e0-884e-67cf83df1786',\n",
      "            'https://ghibliapi.herokuapp.com/films/2de9426b-914a-4a06-a3a0-5e6d9d3886f6',\n",
      "            'https://ghibliapi.herokuapp.com/films/45db04e4-304a-4933-9823-33f389e8d74d',\n",
      "            'https://ghibliapi.herokuapp.com/films/67405111-37a5-438f-81cc-4666af60c800',\n",
      "            'https://ghibliapi.herokuapp.com/films/578ae244-7750-4d9f-867b-f3cd3d6fecf4',\n",
      "            'https://ghibliapi.herokuapp.com/films/5fdfb320-2a02-49a7-94ff-5ca418cae602'],\n",
      "  'hair_colors': 'Black, Blonde, Brown, Grey, White',\n",
      "  'id': 'af3910a6-429f-4c74-9ad5-dfe1c4aa04f2',\n",
      "  'name': 'Human',\n",
      "  'people': ['https://ghibliapi.herokuapp.com/people/ba924631-068e-4436-b6de-f3283fa848f0',\n",
      "             'https://ghibliapi.herokuapp.com/people/e9356bb5-4d4a-4c93-aadc-c83e514bffe3',\n",
      "             'https://ghibliapi.herokuapp.com/people/34277bec-7401-43fa-a00a-5aee64b45b08',\n",
      "             'https://ghibliapi.herokuapp.com/people/91939012-90b9-46e5-a649-96b898073c82',\n",
      "             'https://ghibliapi.herokuapp.com/people/20e3bd33-b35d-41e6-83a4-57ca7f028d38',\n",
      "             'https://ghibliapi.herokuapp.com/people/8bccdc78-545b-49f4-a4c8-756163a38c91',\n",
      "             'https://ghibliapi.herokuapp.com/people/116bfe1b-3ba8-4fa0-8f72-88537a493cb9',\n",
      "             'https://ghibliapi.herokuapp.com/people/986faac6-67e3-4fb8-a9ee-bad077c2e7fe',\n",
      "             'https://ghibliapi.herokuapp.com/people/d5df3c04-f355-4038-833c-83bd3502b6b9',\n",
      "             'https://ghibliapi.herokuapp.com/people/3031caa8-eb1a-41c6-ab93-dd091b541e11',\n",
      "             'https://ghibliapi.herokuapp.com/people/87b68b97-3774-495b-bf80-495a5f3e672d',\n",
      "             'https://ghibliapi.herokuapp.com/people/08ffbce4-7f94-476a-95bc-76d3c3969c19',\n",
      "             'https://ghibliapi.herokuapp.com/people/0f8ef701-b4c7-4f15-bd15-368c7fe38d0a',\n",
      "             'https://ghibliapi.herokuapp.com/people/2409052a-9029-4e8d-bfaf-70fd82c8e48d',\n",
      "             'https://ghibliapi.herokuapp.com/people/8228751c-bdc1-4b8d-a6eb-ca0eb909568f',\n",
      "             'https://ghibliapi.herokuapp.com/people/1c1a8054-3a34-4185-bfcf-e8011506f09a',\n",
      "             'https://ghibliapi.herokuapp.com/people/bc838920-7849-43ea-bfb8-7d5e98dc20b6',\n",
      "             'https://ghibliapi.herokuapp.com/people/d1de1c0e-3fcd-4cef-94eb-bb95cc2314aa',\n",
      "             'https://ghibliapi.herokuapp.com/people/33f5fea9-c21b-490b-90e0-c4051c372826'],\n",
      "  'url': 'https://ghibliapi.herokuapp.com/species/af3910a6-429f-4c74-9ad5-dfe1c4aa04f2'}]\n"
     ]
    }
   ],
   "source": [
    "# Human\n",
    "name_species = input()\n",
    "payload = {'name': name_species}\n",
    "response = requests.get(url_species, params=payload)\n",
    "print(response.url)\n",
    "contenu = response.json()\n",
    "pprint(contenu)"
   ]
  },
  {
   "cell_type": "code",
   "execution_count": 17,
   "metadata": {},
   "outputs": [
    {
     "name": "stdout",
     "output_type": "stream",
     "text": [
      "https://ghibliapi.herokuapp.com/locations?name=Gondoa\n",
      "[{'climate': 'TODO',\n",
      "  'films': ['https://ghibliapi.herokuapp.com/films/2baf70d1-42bb-4437-b551-e5fed5a87abe'],\n",
      "  'id': '6ba60a86-7c74-4ec4-a6f4-7112b5705a2f',\n",
      "  'name': 'Gondoa',\n",
      "  'residents': ['TODO'],\n",
      "  'surface_water': '40',\n",
      "  'terrain': 'TODO',\n",
      "  'url': 'https://ghibliapi.herokuapp.com/locations/6ba60a86-7c74-4ec4-a6f4-7112b5705a2f'}]\n"
     ]
    }
   ],
   "source": [
    "# Gandao\n",
    "loc = input()\n",
    "payload = {\"name\": loc}\n",
    "response = requests.get(url_loc, params=payload)\n",
    "print(response.url)\n",
    "contenu = response.json()\n",
    "pprint(contenu)"
   ]
  },
  {
   "cell_type": "code",
   "execution_count": 6,
   "metadata": {},
   "outputs": [
    {
     "name": "stdout",
     "output_type": "stream",
     "text": [
      "Il y a 21 films faits les studios Ghibli\n"
     ]
    }
   ],
   "source": [
    "nb_films = requests.get(url_films)\n",
    "nb_films = nb_films.json()\n",
    "print(\"Il y a \" +str(len(nb_films)) +\" films faits les studios Ghibli\")"
   ]
  },
  {
   "cell_type": "code",
   "execution_count": null,
   "metadata": {},
   "outputs": [],
   "source": [
    "# ---------------------------------------------------------------------------------------------------------------------------------------------"
   ]
  },
  {
   "cell_type": "markdown",
   "metadata": {},
   "source": [
    "Extraction des données de l'api"
   ]
  },
  {
   "cell_type": "code",
   "execution_count": 9,
   "metadata": {},
   "outputs": [],
   "source": [
    "import pymongo\n",
    "from pymongo import MongoClient"
   ]
  },
  {
   "cell_type": "code",
   "execution_count": 10,
   "metadata": {},
   "outputs": [],
   "source": [
    "client = MongoClient('localhost',27017)\n",
    "db = client.ghibli"
   ]
  },
  {
   "cell_type": "code",
   "execution_count": 11,
   "metadata": {},
   "outputs": [],
   "source": [
    "films = db['films']"
   ]
  },
  {
   "cell_type": "code",
   "execution_count": 12,
   "metadata": {},
   "outputs": [
    {
     "data": {
      "text/plain": [
       "<pymongo.results.InsertManyResult at 0x1fbe55ee700>"
      ]
     },
     "execution_count": 12,
     "metadata": {},
     "output_type": "execute_result"
    }
   ],
   "source": [
    "films.insert_many(url_films)"
   ]
  },
  {
   "cell_type": "code",
   "execution_count": 1,
   "metadata": {},
   "outputs": [],
   "source": [
    "# ---------------------------------------------------------------------------------------------------------------------------------------------"
   ]
  },
  {
   "cell_type": "markdown",
   "metadata": {},
   "source": [
    "Extraction des fichiers json"
   ]
  },
  {
   "cell_type": "code",
   "execution_count": 39,
   "metadata": {},
   "outputs": [],
   "source": [
    "import json\n",
    "\n",
    "data = requests.get(url_films)\n",
    "data = data.json()\n",
    "with open('film.json', 'w', encoding='utf-8') as f:\n",
    "    json.dump(data, f, ensure_ascii=False, indent=4)"
   ]
  },
  {
   "cell_type": "code",
   "execution_count": 40,
   "metadata": {},
   "outputs": [],
   "source": [
    "data = requests.get(url_people)\n",
    "data = data.json()\n",
    "with open('people.json', 'w', encoding='utf-8') as f:\n",
    "    json.dump(data, f, ensure_ascii=False, indent=4)"
   ]
  },
  {
   "cell_type": "code",
   "execution_count": 41,
   "metadata": {},
   "outputs": [],
   "source": [
    "data = requests.get(url_loc)\n",
    "data = data.json()\n",
    "with open('locations.json', 'w', encoding='utf-8') as f:\n",
    "    json.dump(data, f, ensure_ascii=False, indent=4)"
   ]
  },
  {
   "cell_type": "code",
   "execution_count": 45,
   "metadata": {},
   "outputs": [],
   "source": [
    "data = requests.get(url_species)\n",
    "data = data.json()\n",
    "with open('species.json', 'w', encoding='utf-8') as f:\n",
    "    json.dump(data, f, ensure_ascii=False, indent=4)"
   ]
  },
  {
   "cell_type": "code",
   "execution_count": 44,
   "metadata": {},
   "outputs": [],
   "source": [
    "data = requests.get(url_vehicles)\n",
    "data = data.json()\n",
    "with open('vehicles.json', 'w', encoding='utf-8') as f:\n",
    "    json.dump(data, f, ensure_ascii=False, indent=4)"
   ]
  }
 ],
 "metadata": {
  "interpreter": {
   "hash": "6323c9ba79aef14337336f5a3398d4ba2df567d4709c3031a5d2dd21f71a5c41"
  },
  "kernelspec": {
   "display_name": "Python 3.9.9 64-bit (windows store)",
   "language": "python",
   "name": "python3"
  },
  "language_info": {
   "codemirror_mode": {
    "name": "ipython",
    "version": 3
   },
   "file_extension": ".py",
   "mimetype": "text/x-python",
   "name": "python",
   "nbconvert_exporter": "python",
   "pygments_lexer": "ipython3",
   "version": "3.9.9"
  },
  "orig_nbformat": 4
 },
 "nbformat": 4,
 "nbformat_minor": 2
}
